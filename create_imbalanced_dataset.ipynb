{
  "nbformat": 4,
  "nbformat_minor": 0,
  "metadata": {
    "colab": {
      "provenance": []
    },
    "kernelspec": {
      "name": "python3",
      "display_name": "Python 3"
    },
    "language_info": {
      "name": "python"
    }
  },
  "cells": [
    {
      "cell_type": "code",
      "execution_count": null,
      "metadata": {
        "colab": {
          "base_uri": "https://localhost:8080/"
        },
        "id": "hsIjmxtNKk0t",
        "outputId": "93d49112-9004-4b3d-d929-3d920577655a"
      },
      "outputs": [
        {
          "output_type": "stream",
          "name": "stdout",
          "text": [
            "Mounted at /content/gdrive/\n"
          ]
        }
      ],
      "source": [
        "from google.colab import drive\n",
        "drive.mount('/content/gdrive/')"
      ]
    },
    {
      "cell_type": "code",
      "source": [
        "import os\n",
        "import random\n",
        "import shutil "
      ],
      "metadata": {
        "id": "P2BrI0-HK3s2"
      },
      "execution_count": null,
      "outputs": []
    },
    {
      "cell_type": "markdown",
      "source": [
        "# To create the imbalance dataset by taking a subset from the balanced dataset "
      ],
      "metadata": {
        "id": "jpHcbKD5bZdH"
      }
    },
    {
      "cell_type": "code",
      "source": [
        "import os\n",
        "import shutil\n",
        "\n",
        "# set the source folder and destination folder paths\n",
        "source_folder = '/content/gdrive/MyDrive/lung_data_full/lung_n'\n",
        "dest_folder = '/content/gdrive/MyDrive/imb_dataset50/lung_n'\n",
        "\n",
        "# Create the subset folder if it does not exist\n",
        "if not os.path.exists(dest_folder):\n",
        "    os.mkdir(dest_folder)\n",
        "\n",
        "# get a list of files in the source folder\n",
        "files = os.listdir(source_folder)\n",
        "\n",
        "# sort the files by name to get the first 50 files\n",
        "files.sort()\n",
        "first_50_files = files[:2000]\n",
        "\n",
        "# copy each file to the destination folder\n",
        "for file in first_50_files:\n",
        "    file_path = os.path.join(source_folder, file)\n",
        "    shutil.copy(file_path, dest_folder)\n",
        "\n",
        "print(\"Done copying files!\")\n"
      ],
      "metadata": {
        "colab": {
          "base_uri": "https://localhost:8080/"
        },
        "id": "dEukL9CebgEK",
        "outputId": "3b74eda8-867c-43d2-f72e-034d1b509ebc"
      },
      "execution_count": null,
      "outputs": [
        {
          "output_type": "stream",
          "name": "stdout",
          "text": [
            "Done copying files!\n"
          ]
        }
      ]
    },
    {
      "cell_type": "markdown",
      "source": [
        "# To know how many files in a folder\n"
      ],
      "metadata": {
        "id": "RtHc5yCabIWs"
      }
    },
    {
      "cell_type": "code",
      "source": [
        "folder_path = \"/content/gdrive/MyDrive/imb_dataset50/lung_scc\" # replace with the path to your folder\n",
        "num_files = len([f for f in os.listdir(folder_path) if os.path.isfile(os.path.join(folder_path, f))])\n",
        "\n",
        "print(\"Number of files in folder:\", num_files)\n"
      ],
      "metadata": {
        "id": "35Sksv40bEDP"
      },
      "execution_count": null,
      "outputs": []
    },
    {
      "cell_type": "markdown",
      "source": [
        "# To delete all files in a folder"
      ],
      "metadata": {
        "id": "zw_gFllBbQov"
      }
    },
    {
      "cell_type": "code",
      "source": [
        "# set the folder path\n",
        "folder_path = '/content/gdrive/MyDrive/imb_dataset50/lung_n'\n",
        "\n",
        "# get a list of all files in the folder\n",
        "files = os.listdir(folder_path)\n",
        "\n",
        "# sort the files by name in descending order to get the last 20 files\n",
        "files.sort(reverse=True)\n",
        "last_20_files = files[:958]\n",
        "\n",
        "# delete each of the last 20 files in the folder\n",
        "for file in last_20_files:\n",
        "    file_path = os.path.join(folder_path, file)\n",
        "    os.remove(file_path)\n",
        "\n",
        "print(\"Done deleting files!\")\n",
        "\n"
      ],
      "metadata": {
        "id": "B4fugpqMcL-y"
      },
      "execution_count": null,
      "outputs": []
    }
  ]
}